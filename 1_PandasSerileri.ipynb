{
 "cells": [
  {
   "cell_type": "markdown",
   "id": "4d4ad812-7dfa-41f0-a45b-4df8accffbcc",
   "metadata": {},
   "source": [
    "# Pandas Serisi Oluşturmak"
   ]
  },
  {
   "cell_type": "code",
   "execution_count": 2,
   "id": "aa2cbece-d6e3-4940-9861-59e7d6b52ede",
   "metadata": {},
   "outputs": [],
   "source": [
    "import pandas as pd"
   ]
  },
  {
   "cell_type": "code",
   "execution_count": 8,
   "id": "53663ea1-3401-4880-9e10-b18db23d7d49",
   "metadata": {},
   "outputs": [
    {
     "data": {
      "text/plain": [
       "0     1\n",
       "1     2\n",
       "2     3\n",
       "3    44\n",
       "4    56\n",
       "dtype: int64"
      ]
     },
     "execution_count": 8,
     "metadata": {},
     "output_type": "execute_result"
    }
   ],
   "source": [
    "pd.Series([1,2,3,44,56]) # değerleri, indexleri ile birlikte tutar."
   ]
  },
  {
   "cell_type": "code",
   "execution_count": 10,
   "id": "f7f42648-ab7a-4a6a-8be3-3cccaba63a6b",
   "metadata": {},
   "outputs": [],
   "source": [
    "seri = pd.Series([1,2,3,44,56])"
   ]
  },
  {
   "cell_type": "code",
   "execution_count": 12,
   "id": "60366b4a-0374-4739-b7ce-73aeb1303cc6",
   "metadata": {},
   "outputs": [
    {
     "data": {
      "text/plain": [
       "pandas.core.series.Series"
      ]
     },
     "execution_count": 12,
     "metadata": {},
     "output_type": "execute_result"
    }
   ],
   "source": [
    "type(seri)"
   ]
  },
  {
   "cell_type": "code",
   "execution_count": 16,
   "id": "2f17ae79-42ca-4a6b-85bd-1ef6936b71bc",
   "metadata": {},
   "outputs": [
    {
     "data": {
      "text/plain": [
       "[RangeIndex(start=0, stop=5, step=1)]"
      ]
     },
     "execution_count": 16,
     "metadata": {},
     "output_type": "execute_result"
    }
   ],
   "source": [
    "seri.axes # index bilgilerine erişiriz. (0'dan 5'e kadar (5 dahil değil), 1'er artmış)"
   ]
  },
  {
   "cell_type": "code",
   "execution_count": 18,
   "id": "6ff04054-41d4-43a6-8c41-9991663f25c6",
   "metadata": {},
   "outputs": [
    {
     "data": {
      "text/plain": [
       "dtype('int64')"
      ]
     },
     "execution_count": 18,
     "metadata": {},
     "output_type": "execute_result"
    }
   ],
   "source": [
    "seri.dtype"
   ]
  },
  {
   "cell_type": "code",
   "execution_count": 20,
   "id": "f3a3dd07-afae-4718-b1d5-ec867050af97",
   "metadata": {},
   "outputs": [
    {
     "data": {
      "text/plain": [
       "5"
      ]
     },
     "execution_count": 20,
     "metadata": {},
     "output_type": "execute_result"
    }
   ],
   "source": [
    "seri.size"
   ]
  },
  {
   "cell_type": "code",
   "execution_count": 22,
   "id": "c84eece5-77ff-457a-a744-7df528c8572f",
   "metadata": {},
   "outputs": [
    {
     "data": {
      "text/plain": [
       "1"
      ]
     },
     "execution_count": 22,
     "metadata": {},
     "output_type": "execute_result"
    }
   ],
   "source": [
    "seri.ndim"
   ]
  },
  {
   "cell_type": "code",
   "execution_count": 24,
   "id": "f4ff9965-bc31-4940-bce1-1bf25bdfff9a",
   "metadata": {},
   "outputs": [
    {
     "data": {
      "text/plain": [
       "array([ 1,  2,  3, 44, 56], dtype=int64)"
      ]
     },
     "execution_count": 24,
     "metadata": {},
     "output_type": "execute_result"
    }
   ],
   "source": [
    "seri.values # sadece değerlere ulaştık."
   ]
  },
  {
   "cell_type": "code",
   "execution_count": 36,
   "id": "8fa77603-b29d-4668-8eb4-b4fe779387c1",
   "metadata": {},
   "outputs": [
    {
     "data": {
      "text/plain": [
       "0     1\n",
       "1     2\n",
       "2     3\n",
       "3    44\n",
       "4    56\n",
       "dtype: int64"
      ]
     },
     "execution_count": 36,
     "metadata": {},
     "output_type": "execute_result"
    }
   ],
   "source": [
    "seri.head()"
   ]
  },
  {
   "cell_type": "code",
   "execution_count": 38,
   "id": "b49d02d4-f273-4815-b7df-e5cabd73650d",
   "metadata": {},
   "outputs": [
    {
     "data": {
      "text/plain": [
       "0     1\n",
       "1     2\n",
       "2     3\n",
       "3    44\n",
       "4    56\n",
       "dtype: int64"
      ]
     },
     "execution_count": 38,
     "metadata": {},
     "output_type": "execute_result"
    }
   ],
   "source": [
    "seri.tail()"
   ]
  },
  {
   "cell_type": "markdown",
   "id": "9e505496-10c1-407b-9ae8-fa3fbbf78988",
   "metadata": {},
   "source": [
    "## Index İsimlendirmesi"
   ]
  },
  {
   "cell_type": "code",
   "execution_count": 41,
   "id": "21277d6a-7258-4b24-8897-48ee8b778646",
   "metadata": {},
   "outputs": [
    {
     "data": {
      "text/plain": [
       "0     99\n",
       "1     22\n",
       "2    323\n",
       "3     49\n",
       "4      5\n",
       "dtype: int64"
      ]
     },
     "execution_count": 41,
     "metadata": {},
     "output_type": "execute_result"
    }
   ],
   "source": [
    "pd.Series([99,22,323,49,5])"
   ]
  },
  {
   "cell_type": "code",
   "execution_count": 43,
   "id": "e89df367-4229-405a-b20d-78c3a5429f67",
   "metadata": {},
   "outputs": [
    {
     "data": {
      "text/plain": [
       "1     99\n",
       "3     22\n",
       "5    323\n",
       "7     49\n",
       "9      5\n",
       "dtype: int64"
      ]
     },
     "execution_count": 43,
     "metadata": {},
     "output_type": "execute_result"
    }
   ],
   "source": [
    "pd.Series([99,22,323,49,5], index = [1,3,5,7,9]) # index'leri kendimiz belirttik"
   ]
  },
  {
   "cell_type": "code",
   "execution_count": 47,
   "id": "a08d9cd4-9d64-4c42-8557-99312f71a1d9",
   "metadata": {},
   "outputs": [
    {
     "data": {
      "text/plain": [
       "a     99\n",
       "b     22\n",
       "c    323\n",
       "d     49\n",
       "e      5\n",
       "dtype: int64"
      ]
     },
     "execution_count": 47,
     "metadata": {},
     "output_type": "execute_result"
    }
   ],
   "source": [
    "pd.Series([99,22,323,49,5], index = [\"a\",\"b\",\"c\",\"d\",\"e\"]) # index'leri kendimiz belirttik"
   ]
  },
  {
   "cell_type": "code",
   "execution_count": 51,
   "id": "c3a0ac25-0d1d-466e-aa3f-b49028bc09b8",
   "metadata": {},
   "outputs": [],
   "source": [
    "seri = pd.Series([99,22,323,49,5], index = [\"a\",\"b\",\"c\",\"d\",\"e\"])"
   ]
  },
  {
   "cell_type": "code",
   "execution_count": 53,
   "id": "d9b8610d-4fc6-40bb-8e4c-f4724b3a3f37",
   "metadata": {},
   "outputs": [
    {
     "data": {
      "text/plain": [
       "99"
      ]
     },
     "execution_count": 53,
     "metadata": {},
     "output_type": "execute_result"
    }
   ],
   "source": [
    "seri[\"a\"]"
   ]
  },
  {
   "cell_type": "code",
   "execution_count": 55,
   "id": "bc6264c9-8caa-47c9-8e6e-68f6f86d1280",
   "metadata": {},
   "outputs": [
    {
     "data": {
      "text/plain": [
       "a     99\n",
       "b     22\n",
       "c    323\n",
       "dtype: int64"
      ]
     },
     "execution_count": 55,
     "metadata": {},
     "output_type": "execute_result"
    }
   ],
   "source": [
    "seri[\"a\":\"c\"] # slice ile seçim yaptık"
   ]
  },
  {
   "cell_type": "markdown",
   "id": "b763ce4a-aabd-4a8b-9c7a-1a156d802c3e",
   "metadata": {},
   "source": [
    "## Sözlük Üzerinden Liste Oluşturmak"
   ]
  },
  {
   "cell_type": "code",
   "execution_count": 58,
   "id": "8d4f29cf-171c-4062-9aef-13aec0dec295",
   "metadata": {},
   "outputs": [],
   "source": [
    "sozluk = {\"reg\":10, \"log\":11, \"cart\":12}"
   ]
  },
  {
   "cell_type": "code",
   "execution_count": 60,
   "id": "efda0837-10bb-4d30-94fe-17471b3e03a9",
   "metadata": {},
   "outputs": [],
   "source": [
    "seri = pd.Series(sozluk)"
   ]
  },
  {
   "cell_type": "code",
   "execution_count": 62,
   "id": "d1d804c4-0220-43a3-90c1-e119bce9dcdb",
   "metadata": {},
   "outputs": [
    {
     "data": {
      "text/plain": [
       "reg     10\n",
       "log     11\n",
       "cart    12\n",
       "dtype: int64"
      ]
     },
     "execution_count": 62,
     "metadata": {},
     "output_type": "execute_result"
    }
   ],
   "source": [
    "seri"
   ]
  },
  {
   "cell_type": "markdown",
   "id": "549da594-7e0c-44cf-95cc-dbb39e679e58",
   "metadata": {},
   "source": [
    "## İki Seriyi Birleştirerek Seri Oluşturma"
   ]
  },
  {
   "cell_type": "code",
   "execution_count": 65,
   "id": "8acdeba2-bef9-48e7-8bcd-1b739a14e37d",
   "metadata": {},
   "outputs": [
    {
     "data": {
      "text/plain": [
       "reg     10\n",
       "log     11\n",
       "cart    12\n",
       "reg     10\n",
       "log     11\n",
       "cart    12\n",
       "dtype: int64"
      ]
     },
     "execution_count": 65,
     "metadata": {},
     "output_type": "execute_result"
    }
   ],
   "source": [
    "pd.concat([seri, seri])"
   ]
  },
  {
   "cell_type": "markdown",
   "id": "bdc93410-0eb2-4893-b0b5-f1e486699a68",
   "metadata": {},
   "source": []
  },
  {
   "cell_type": "markdown",
   "id": "cbb933b3-5b72-41eb-b045-442917d207c4",
   "metadata": {},
   "source": []
  },
  {
   "cell_type": "markdown",
   "id": "07258660-c964-4a19-ad03-4974cf4ab2a5",
   "metadata": {},
   "source": [
    "# Eleman İşlemleri"
   ]
  },
  {
   "cell_type": "code",
   "execution_count": 75,
   "id": "3d1488aa-b745-4e5d-857f-891cbe80e734",
   "metadata": {},
   "outputs": [
    {
     "data": {
      "text/plain": [
       "0      1\n",
       "1      2\n",
       "2     33\n",
       "3    444\n",
       "4    535\n",
       "dtype: int32"
      ]
     },
     "execution_count": 75,
     "metadata": {},
     "output_type": "execute_result"
    }
   ],
   "source": [
    "import pandas as pd\n",
    "import numpy as np\n",
    "\n",
    "a = np.array([1,2,33,444,535])\n",
    "seri = pd.Series(a)\n",
    "seri"
   ]
  },
  {
   "cell_type": "code",
   "execution_count": 77,
   "id": "7de3f9c7-5eb2-4915-a213-97851d381751",
   "metadata": {},
   "outputs": [
    {
     "data": {
      "text/plain": [
       "1"
      ]
     },
     "execution_count": 77,
     "metadata": {},
     "output_type": "execute_result"
    }
   ],
   "source": [
    "seri[0]"
   ]
  },
  {
   "cell_type": "code",
   "execution_count": 79,
   "id": "f3151b5d-38b9-49b1-a87b-aa43df066f0a",
   "metadata": {},
   "outputs": [
    {
     "data": {
      "text/plain": [
       "0     1\n",
       "1     2\n",
       "2    33\n",
       "dtype: int32"
      ]
     },
     "execution_count": 79,
     "metadata": {},
     "output_type": "execute_result"
    }
   ],
   "source": [
    "seri[0:3]"
   ]
  },
  {
   "cell_type": "code",
   "execution_count": 81,
   "id": "a7b1b2b1-e4fa-4d1b-ac00-b49eb1cca8c7",
   "metadata": {},
   "outputs": [],
   "source": [
    "seri = pd.Series([121,200,150,99], \n",
    "                 index = [\"reg\",\"loj\",\"cart\",\"rf\"]) # index'ler ibiz belirttik"
   ]
  },
  {
   "cell_type": "code",
   "execution_count": 83,
   "id": "aafa0b01-8557-406b-9f9f-fb1ebabd0735",
   "metadata": {},
   "outputs": [
    {
     "data": {
      "text/plain": [
       "reg     121\n",
       "loj     200\n",
       "cart    150\n",
       "rf       99\n",
       "dtype: int64"
      ]
     },
     "execution_count": 83,
     "metadata": {},
     "output_type": "execute_result"
    }
   ],
   "source": [
    "seri"
   ]
  },
  {
   "cell_type": "code",
   "execution_count": 85,
   "id": "992efc31-2562-4e51-aae6-7a4a05b0a1bc",
   "metadata": {},
   "outputs": [
    {
     "data": {
      "text/plain": [
       "Index(['reg', 'loj', 'cart', 'rf'], dtype='object')"
      ]
     },
     "execution_count": 85,
     "metadata": {},
     "output_type": "execute_result"
    }
   ],
   "source": [
    "seri.index # sadece index'ler"
   ]
  },
  {
   "cell_type": "code",
   "execution_count": 87,
   "id": "55478232-25b2-4901-8370-53690bde066b",
   "metadata": {},
   "outputs": [
    {
     "data": {
      "text/plain": [
       "<bound method Series.keys of reg     121\n",
       "loj     200\n",
       "cart    150\n",
       "rf       99\n",
       "dtype: int64>"
      ]
     },
     "execution_count": 87,
     "metadata": {},
     "output_type": "execute_result"
    }
   ],
   "source": [
    "seri.keys"
   ]
  },
  {
   "cell_type": "code",
   "execution_count": 89,
   "id": "7ba508d9-30ec-4869-b7e2-2091ede4ef04",
   "metadata": {},
   "outputs": [
    {
     "data": {
      "text/plain": [
       "[('reg', 121), ('loj', 200), ('cart', 150), ('rf', 99)]"
      ]
     },
     "execution_count": 89,
     "metadata": {},
     "output_type": "execute_result"
    }
   ],
   "source": [
    "list(seri.items()) \n",
    "# indeks-değer çiftlerini liste formatında elde etmemizi sağlar."
   ]
  },
  {
   "cell_type": "code",
   "execution_count": 91,
   "id": "a0b7bd2f-5351-47b2-8898-d26ef4ef3179",
   "metadata": {},
   "outputs": [],
   "source": [
    "# ^^^^^^^^ Burada, her tuple, Series'deki bir indeks-değer çiftini temsil eder."
   ]
  },
  {
   "cell_type": "code",
   "execution_count": 93,
   "id": "640b29c1-6649-48ef-97b4-c6515204fa30",
   "metadata": {},
   "outputs": [
    {
     "data": {
      "text/plain": [
       "array([121, 200, 150,  99], dtype=int64)"
      ]
     },
     "execution_count": 93,
     "metadata": {},
     "output_type": "execute_result"
    }
   ],
   "source": [
    "seri.values"
   ]
  },
  {
   "cell_type": "markdown",
   "id": "c7f3efd5-f245-4123-b894-d61eaf5fc458",
   "metadata": {},
   "source": [
    "## Eleman Sorgulama"
   ]
  },
  {
   "cell_type": "code",
   "execution_count": 128,
   "id": "fca82b92-b2f3-46cf-99d7-70b004e3d78a",
   "metadata": {},
   "outputs": [],
   "source": [
    "seri = pd.Series([121,200,150,99], \n",
    "                 index = [\"reg\",\"loj\",\"cart\",\"rf\"])"
   ]
  },
  {
   "cell_type": "code",
   "execution_count": 130,
   "id": "c2dd81a8-7338-4e1b-8677-682fd38cb50e",
   "metadata": {},
   "outputs": [
    {
     "data": {
      "text/plain": [
       "True"
      ]
     },
     "execution_count": 130,
     "metadata": {},
     "output_type": "execute_result"
    }
   ],
   "source": [
    "\"reg\" in seri"
   ]
  },
  {
   "cell_type": "code",
   "execution_count": 132,
   "id": "6bc7082c-7385-4170-8f94-14995a9700f7",
   "metadata": {},
   "outputs": [
    {
     "data": {
      "text/plain": [
       "False"
      ]
     },
     "execution_count": 132,
     "metadata": {},
     "output_type": "execute_result"
    }
   ],
   "source": [
    "\"a\" in seri"
   ]
  },
  {
   "cell_type": "markdown",
   "id": "cbfdc262-906b-4c99-95b7-ce12648acd22",
   "metadata": {},
   "source": [
    "## Fancy ile Eleman Seçme"
   ]
  },
  {
   "cell_type": "code",
   "execution_count": 135,
   "id": "9c731f35-f90d-40d5-ba85-c02ca08aa40f",
   "metadata": {},
   "outputs": [
    {
     "data": {
      "text/plain": [
       "rf      99\n",
       "reg    121\n",
       "dtype: int64"
      ]
     },
     "execution_count": 135,
     "metadata": {},
     "output_type": "execute_result"
    }
   ],
   "source": [
    "seri[[\"rf\",\"reg\"]]"
   ]
  },
  {
   "cell_type": "markdown",
   "id": "a689aa1c-1435-42d9-872c-74a3a08c2c9f",
   "metadata": {},
   "source": [
    "## Eleman Güncelleme"
   ]
  },
  {
   "cell_type": "code",
   "execution_count": 140,
   "id": "ad3e893f-7128-438c-971e-f35f974e4ca8",
   "metadata": {},
   "outputs": [
    {
     "data": {
      "text/plain": [
       "121"
      ]
     },
     "execution_count": 140,
     "metadata": {},
     "output_type": "execute_result"
    }
   ],
   "source": [
    "seri[\"reg\"]"
   ]
  },
  {
   "cell_type": "code",
   "execution_count": 148,
   "id": "d5368a22-2065-4789-a21d-fc830b1718a2",
   "metadata": {},
   "outputs": [
    {
     "data": {
      "text/plain": [
       "1"
      ]
     },
     "execution_count": 148,
     "metadata": {},
     "output_type": "execute_result"
    }
   ],
   "source": [
    "seri[\"reg\"] = 1\n",
    "seri[\"reg\"]"
   ]
  },
  {
   "cell_type": "markdown",
   "id": "d4dc6fbc-630d-4ea2-b286-4091b6066f15",
   "metadata": {},
   "source": [
    "## Slice ile Seçim"
   ]
  },
  {
   "cell_type": "code",
   "execution_count": 153,
   "id": "17b28158-9279-4504-9633-d92cd3e050ec",
   "metadata": {},
   "outputs": [
    {
     "data": {
      "text/plain": [
       "reg      1\n",
       "loj    200\n",
       "dtype: int64"
      ]
     },
     "execution_count": 153,
     "metadata": {},
     "output_type": "execute_result"
    }
   ],
   "source": [
    "seri[\"reg\":\"loj\"]"
   ]
  },
  {
   "cell_type": "code",
   "execution_count": null,
   "id": "1f982880-59fe-4106-a0af-9843cd26f49c",
   "metadata": {},
   "outputs": [],
   "source": []
  }
 ],
 "metadata": {
  "kernelspec": {
   "display_name": "Python 3 (ipykernel)",
   "language": "python",
   "name": "python3"
  },
  "language_info": {
   "codemirror_mode": {
    "name": "ipython",
    "version": 3
   },
   "file_extension": ".py",
   "mimetype": "text/x-python",
   "name": "python",
   "nbconvert_exporter": "python",
   "pygments_lexer": "ipython3",
   "version": "3.12.4"
  }
 },
 "nbformat": 4,
 "nbformat_minor": 5
}
