{
 "cells": [
  {
   "cell_type": "markdown",
   "id": "ac305731",
   "metadata": {},
   "source": [
    "### Soru 1"
   ]
  },
  {
   "cell_type": "markdown",
   "id": "5a3bf585-33fc-43c3-a1ef-b1156d9547a4",
   "metadata": {},
   "source": [
    "Aşağıdakilerden hangileri doğrudur?\n",
    "\n",
    "* **I.)**   unstack() fonksiyonu çoklu indeks yapısındaki dataframe’i enine genişletir.\n",
    "* **II.)**  unstack() fonksiyonu çoklu indeks yapısındaki dataframe’in bir indeksini kolon başlığı olarak yer değiştirir.\n",
    "* **III.)** stack() fonksiyonu unstack() fonksiyonunun tersidir."
   ]
  },
  {
   "cell_type": "markdown",
   "id": "a3cefc15",
   "metadata": {},
   "source": [
    "### Soru 2"
   ]
  },
  {
   "cell_type": "markdown",
   "id": "ff4338a5-59f8-4556-84f4-16e28980836c",
   "metadata": {},
   "source": [
    "Pandas DataFrame üzerinde hem gözlem hem değişken seçimi için indeks bağımsız seçim yapmak üzere  ....  kullanılır. Boşluğa aşağıdakilerden hangisi gelmelidir?\n",
    "\n",
    "\n",
    "**A)** loc\n",
    "\n",
    "\n",
    "**B)** iloc\n",
    "\n",
    "\n",
    "**C)** slice\n",
    "\n",
    "\n",
    "**D)** fancy index"
   ]
  },
  {
   "cell_type": "markdown",
   "id": "c796fb1f",
   "metadata": {},
   "source": [
    "### Soru 3"
   ]
  },
  {
   "cell_type": "markdown",
   "id": "1d868d51-3b0d-462a-9dd1-a2ef4dc4ca82",
   "metadata": {},
   "source": [
    "df1 ve df2 Pandas DataFrame olarak tanımlanmıştır. Verilen kod parçası ile ilgili aşağıdakilerden hangisi yanlıştır?\n",
    "\n",
    " \n",
    "\n",
    "**pd.concat([df1,df2])**\n",
    " \n",
    "\n",
    "\n",
    "**A)** Kolon adları aynı ise satır bazında alçalta birleşirler\n",
    "\n",
    "\n",
    "**B)** Kolon adları aynı ise sütun bazında alçalta birleşirler\n",
    "\n",
    "\n",
    "**C)** Kolon adları farklı ise uyarı hatası verir\n",
    "\n",
    "\n",
    "**D)** DataFrame indeksleri korunur\n",
    "\n",
    "\n",
    "**E)** ignore_index = True\" argümanı ile oluşan DataFrame indeksleri yeniden standart halde tanımlanır"
   ]
  },
  {
   "attachments": {
    "76c9f15a-8b7d-4806-893e-cb71bad3e95e.png": {
     "image/png": "[encoded data removed]"
    }
   },
   "cell_type": "markdown",
   "id": "e8849538-ded9-4547-a368-d9e8c0d058a9",
   "metadata": {},
   "source": [
    "### Soru 4\n",
    "\n",
    "![image.png](attachment:76c9f15a-8b7d-4806-893e-cb71bad3e95e.png)         6"
   ]
  },
  {
   "cell_type": "markdown",
   "id": "7f216495-77d2-4f75-94d3-029f726f9e51",
   "metadata": {},
   "source": [
    "### Soru 5\n",
    "\n",
    "Verilen kod parçası ile ilgili aşağıdakilerden hangisi yanlıştır?\n",
    " \n",
    "\n",
    "**df[(df.var1 > 15)][[ \"var1\",\"var2\"]]**\n",
    " \n",
    "\n",
    "\n",
    "**A)** [[\"var1\",\"var2\"]] ifadesinde çift köşeli parantez kullanılmasının sebebi, çıktının tablo şeklinde gösterilmesi içindir\n",
    "\n",
    "\n",
    "**B)** Çıktının türü Pandas DataFrame olacaktır\n",
    "\n",
    "\n",
    "**C)** df[(df.var1 > 15)][ \"var1\"] kodu ile bir değişken kolonu seçilebilir ve türü pandas.Series olur\n",
    "\n",
    "\n",
    "**D)** Çıktı’da değişken isimleri görünmez\n",
    "\n",
    "\n",
    "**E)** df.loc[(df.var1 > 15), [\"var1\",\"var2\"]] kodu ile aynı filtreleme yapılabilir"
   ]
  },
  {
   "cell_type": "markdown",
   "id": "8249bfa9-57ef-4282-9d5b-adb220c3ae88",
   "metadata": {},
   "source": [
    "### Soru 6\n",
    "\n",
    "Bir Pandas Serisini array olarak almak istersek hangi metodu uygulamak gerekir?"
   ]
  },
  {
   "cell_type": "markdown",
   "id": "88c8324c-7526-48da-9429-991307c1044f",
   "metadata": {},
   "source": [
    "### Soru 7\n",
    "\n",
    "**df.groupby(\"gruplar\").aggregate([min, np.median, max])**\n",
    "\n",
    "kodu ile ne amaçlanmıştır?\n",
    "\n",
    "\n",
    "**A)** df dataframe’i gruplamak, sırasıyla her satıra min, np.median ve max fonksiyonu uygulamak\n",
    "\n",
    "\n",
    "**B)** df dataframe’i gruplamak, 1. gruba min, 2. gruba np.median ve 3. gruba max fonksiyonu uygulamak\n",
    "\n",
    "\n",
    "**C)** df dataframe’i gruplamak, sırasıyla her sütun için min, np.median ve max fonksiyonlarını uygulamak ve her sütun için bu 3 sonucu birer sütun olarak göstermek\n",
    "\n",
    "\n",
    "**D)** df dataframe’i gruplamak, sırasıyla her sütuna min, np.median ve max fonksiyonlarını uygulamak, her sütun için nihai sonuç tek sütun olacak şekilde göstermek\n",
    "\n",
    "\n",
    "**E)** Kod hata verir."
   ]
  },
  {
   "cell_type": "markdown",
   "id": "880c1537-3f72-44ce-a285-735380f1f5ff",
   "metadata": {},
   "source": [
    "### Soru 8\n",
    "\n",
    "**\"gruplar\" dışında 2 kolona sahip olan \"df\" isimli Pandas DataFrame önce gruplamak sonra da 1. kolona min fonksiyonu, 2.kolona max fonksiyonu uygulanmak isteniyor. Hangi seçenek doğrudur?**\n",
    "\n",
    "\n",
    "**A)** df.groupby(\"gruplar\").agg([\"degisken1\": \"min\", \"degisken2\": \"max\"])\n",
    "\n",
    "\n",
    "**B)** df.groupby(\"gruplar\").agg({\"degisken1\": \"max\", \"degisken2\": “min\"})\n",
    "\n",
    "\n",
    "**C)** df.groupby(\"gruplar\").aggregate([\"degisken1\": \"min\", \"degisken2\": \"max\"])\n",
    "\n",
    "\n",
    "**D)** df.groupby(\"gruplar\").aggregate({\"degisken1\": \"min\", \"degisken2\": \"max\"})\n",
    "\n",
    "\n",
    "**E)** df.groupby(\"gruplar\").aggregate((\"degisken1\": \"min\"), (\"degisken2\": \"max\"))"
   ]
  },
  {
   "cell_type": "code",
   "execution_count": null,
   "id": "dfb96227-35a4-4c9b-9997-1f61cce858d2",
   "metadata": {},
   "outputs": [],
   "source": []
  }
 ],
 "metadata": {
  "kernelspec": {
   "display_name": "Python 3 (ipykernel)",
   "language": "python",
   "name": "python3"
  },
  "language_info": {
   "codemirror_mode": {
    "name": "ipython",
    "version": 3
   },
   "file_extension": ".py",
   "mimetype": "text/x-python",
   "name": "python",
   "nbconvert_exporter": "python",
   "pygments_lexer": "ipython3",
   "version": "3.12.4"
  }
 },
 "nbformat": 4,
 "nbformat_minor": 5
}
